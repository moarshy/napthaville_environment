{
 "cells": [
  {
   "cell_type": "code",
   "execution_count": 1,
   "metadata": {},
   "outputs": [],
   "source": [
    "import sys\n",
    "sys.path.append(\"/Users/arshath/play/napthaville_environment\")"
   ]
  },
  {
   "cell_type": "code",
   "execution_count": 2,
   "metadata": {},
   "outputs": [],
   "source": [
    "from napthaville_environment.maze import Maze\n",
    "from napthaville_environment.schemas import (\n",
    "    MazeConfig, MazeState, TileDetails, \n",
    "    TileLocation, PixelCoordinate, AddressTile, \n",
    "    TileLevel, TilePath, VisionRadius, NearbyTiles,\n",
    "    InputSchema, PixelCoordinate\n",
    ")\n",
    "from napthaville_environment.run import NapthavilleEnvironment\n",
    "import json\n",
    "from pathlib import Path"
   ]
  },
  {
   "cell_type": "code",
   "execution_count": 3,
   "metadata": {},
   "outputs": [],
   "source": [
    "config = json.load(open(\"./napthaville_environment/configs/deployment.json\"))\n",
    "maze = Maze(config[0][\"config\"])\n",
    "napthaville_env = NapthavilleEnvironment(config[0])"
   ]
  },
  {
   "cell_type": "code",
   "execution_count": null,
   "metadata": {},
   "outputs": [],
   "source": [
    "px_coord = PixelCoordinate(x=1600, y=384)\n",
    "tile_loc = maze.turn_coordinate_to_tile(px_coord)\n",
    "print(tile_loc)"
   ]
  },
  {
   "cell_type": "code",
   "execution_count": null,
   "metadata": {},
   "outputs": [],
   "source": [
    "run_inputs = {\n",
    "        \"px_coordinate\": {\n",
    "            \"x\": 1600,\n",
    "            \"y\": 384\n",
    "        }\n",
    "    }\n",
    "tile_loc = napthaville_env.turn_coordinate_to_tile(run_inputs)\n",
    "print(tile_loc)"
   ]
  },
  {
   "cell_type": "code",
   "execution_count": 7,
   "metadata": {},
   "outputs": [
    {
     "name": "stdout",
     "output_type": "stream",
     "text": [
      "\n",
      "Test 2: Access tile details\n",
      "Tile (58, 9) details: world='the Ville' sector='' arena='' game_object='' spawning_location='' collision=False events=set()\n"
     ]
    }
   ],
   "source": [
    "# Test 2: Access tile\n",
    "print(\"\\nTest 2: Access tile details\")\n",
    "tile = TileLocation(x=58, y=9)\n",
    "tile_details = maze.access_tile(tile)\n",
    "print(f\"Tile {(tile.x, tile.y)} details: {tile_details}\")"
   ]
  },
  {
   "cell_type": "code",
   "execution_count": null,
   "metadata": {},
   "outputs": [],
   "source": [
    "run_inputs = {\n",
    "    \"tile\": {\n",
    "        \"x\": 58,\n",
    "        \"y\": 9\n",
    "    }\n",
    "}\n",
    "tile_details = napthaville_env.access_tile(run_inputs)\n",
    "print(tile_details)"
   ]
  },
  {
   "cell_type": "code",
   "execution_count": null,
   "metadata": {},
   "outputs": [],
   "source": [
    "path = maze.get_tile_path(tile, TileLevel.ARENA)\n",
    "print(path)"
   ]
  },
  {
   "cell_type": "code",
   "execution_count": null,
   "metadata": {},
   "outputs": [],
   "source": [
    "run_inputs = {\n",
    "    \"tile\": {\n",
    "        \"x\": 58,\n",
    "        \"y\": 9\n",
    "    },\n",
    "    \"level\": \"arena\"\n",
    "}\n",
    "nearby_tiles = napthaville_env.get_tile_path(run_inputs)\n",
    "print(nearby_tiles)"
   ]
  },
  {
   "cell_type": "code",
   "execution_count": null,
   "metadata": {},
   "outputs": [],
   "source": [
    "vision = VisionRadius(radius=2)\n",
    "nearby = maze.get_nearby_tiles(tile, vision)\n",
    "print(nearby)"
   ]
  },
  {
   "cell_type": "code",
   "execution_count": null,
   "metadata": {},
   "outputs": [],
   "source": [
    "run_inputs = {\n",
    "    \"tile\": {\n",
    "        \"x\": 58,\n",
    "        \"y\": 9\n",
    "    },\n",
    "    \"vision_r\": 2\n",
    "}\n",
    "\n",
    "nearby_tiles = napthaville_env.get_nearby_tiles(run_inputs)\n",
    "print(nearby_tiles)"
   ]
  },
  {
   "cell_type": "code",
   "execution_count": 5,
   "metadata": {},
   "outputs": [],
   "source": [
    "test_event = (\"test_event\", None, None, None)"
   ]
  },
  {
   "cell_type": "code",
   "execution_count": null,
   "metadata": {},
   "outputs": [],
   "source": [
    "maze.add_event_from_tile(test_event, tile)\n",
    "tile_after_add = maze.access_tile(tile)\n",
    "print(f\"After adding event: {tile_after_add.events}\")"
   ]
  },
  {
   "cell_type": "code",
   "execution_count": 8,
   "metadata": {},
   "outputs": [
    {
     "name": "stdout",
     "output_type": "stream",
     "text": [
      "After making event idle: set()\n"
     ]
    }
   ],
   "source": [
    "# Make event idle\n",
    "maze.turn_event_from_tile_idle(test_event, tile)\n",
    "tile_after_idle = maze.access_tile(tile)\n",
    "print(f\"After making event idle: {tile_after_idle.events}\")"
   ]
  },
  {
   "cell_type": "code",
   "execution_count": null,
   "metadata": {},
   "outputs": [],
   "source": [
    "# Remove event\n",
    "maze.remove_event_from_tile(test_event, tile)\n",
    "tile_after_remove = maze.access_tile(tile)\n",
    "print(f\"After removing event: {tile_after_remove.events}\")"
   ]
  },
  {
   "cell_type": "code",
   "execution_count": null,
   "metadata": {},
   "outputs": [],
   "source": [
    "run_inputs = {\n",
    "    \"tile\": {\n",
    "        \"x\": 58,\n",
    "        \"y\": 9\n",
    "    },\n",
    "    \"curr_event\": (\"test_event\", None, None, None)\n",
    "}\n",
    "napthaville_env.add_event_from_tile(run_inputs)\n",
    "tile_after_add = napthaville_env.access_tile(run_inputs)\n",
    "print(tile_after_add)"
   ]
  },
  {
   "cell_type": "code",
   "execution_count": null,
   "metadata": {},
   "outputs": [],
   "source": [
    "run_inputs = {\n",
    "    \"tile\": {\n",
    "        \"x\": 58,\n",
    "        \"y\": 9\n",
    "    },\n",
    "    \"curr_event\": (\"test_event\", None, None, None)\n",
    "}\n",
    "napthaville_env.turn_event_from_tile_idle(run_inputs)\n",
    "tile_after_idle = napthaville_env.access_tile(run_inputs)\n",
    "print(tile_after_idle)"
   ]
  },
  {
   "cell_type": "code",
   "execution_count": null,
   "metadata": {},
   "outputs": [],
   "source": [
    "run_inputs = {\n",
    "    \"tile\": {\n",
    "        \"x\": 58,\n",
    "        \"y\": 9\n",
    "    },\n",
    "    \"curr_event\": (\"test_event\", None, None, None)\n",
    "}\n",
    "\n",
    "napthaville_env.remove_event_from_tile(run_inputs)\n",
    "tile_after_remove = napthaville_env.access_tile(run_inputs)\n",
    "print(tile_after_remove)"
   ]
  },
  {
   "cell_type": "code",
   "execution_count": null,
   "metadata": {},
   "outputs": [],
   "source": [
    "subject = \"test_subject\"\n",
    "test_subject_event = (subject, None, None, None)\n",
    "maze.add_event_from_tile(test_subject_event, tile)\n",
    "print(f\"Before removing subject: {maze.access_tile(tile).events}\")\n",
    "maze.remove_subject_events_from_tile(subject, tile)\n",
    "print(f\"After removing subject: {maze.access_tile(tile).events}\")"
   ]
  },
  {
   "cell_type": "code",
   "execution_count": null,
   "metadata": {},
   "outputs": [],
   "source": [
    "run_inputs = {\n",
    "    \"tile\": {\n",
    "        \"x\": 58,\n",
    "        \"y\": 9\n",
    "    },\n",
    "    \"curr_event\": (\"test_subject\", None, None, None)\n",
    "}\n",
    "napthaville_env.add_event_from_tile(run_inputs)\n",
    "tile_after_add = napthaville_env.access_tile(run_inputs)\n",
    "print(tile_after_add)\n",
    "run_inputs = {\n",
    "    \"tile\": {\n",
    "        \"x\": 58,\n",
    "        \"y\": 9\n",
    "    },\n",
    "    \"subject\": \"test_subject\"\n",
    "}\n",
    "napthaville_env.remove_subject_events_from_tile(run_inputs)\n",
    "tile_after_remove = napthaville_env.access_tile(run_inputs)\n",
    "print(tile_after_remove)"
   ]
  },
  {
   "cell_type": "code",
   "execution_count": null,
   "metadata": {},
   "outputs": [],
   "source": [
    "# Test 7: Load functions\n",
    "print(\"\\nTest 7: Testing load functions\")\n",
    "collision_maze = maze.load_collision_maze()\n",
    "tiles = maze.load_tiles()\n",
    "address_tiles = maze.load_address_tiles()\n",
    "print(f\"Loaded collision maze size: {len(collision_maze)} x {len(collision_maze[0])}\")\n",
    "print(f\"Loaded tiles size: {len(tiles)} x {len(tiles[0])}\")\n",
    "print(f\"Loaded address tiles count: {len(address_tiles)}\")"
   ]
  },
  {
   "cell_type": "code",
   "execution_count": 4,
   "metadata": {},
   "outputs": [],
   "source": [
    "from napthaville_environment.run import run\n",
    "import logging\n",
    "\n",
    "logging.basicConfig(level=logging.INFO)\n",
    "logger = logging.getLogger(__name__)\n"
   ]
  },
  {
   "cell_type": "code",
   "execution_count": null,
   "metadata": {},
   "outputs": [],
   "source": [
    "run_inputs = {\n",
    "    \"inputs\": {\n",
    "        \"function_name\": \"add_event_from_tile\",\n",
    "        \"function_input_data\": {\n",
    "            \"tile\": {\n",
    "                \"x\": 58,\n",
    "                \"y\": 9\n",
    "            },\n",
    "            \"curr_event\": (\"test_event\", None, None, None)\n",
    "        }\n",
    "    },\n",
    "    \"deployment\": config[0]\n",
    "}\n",
    "result = await run(run_inputs)\n",
    "result"
   ]
  },
  {
   "cell_type": "code",
   "execution_count": null,
   "metadata": {},
   "outputs": [],
   "source": [
    "run_inputs = {\n",
    "    \"inputs\": {\n",
    "        \"function_name\": \"turn_event_from_tile_idle\",\n",
    "        \"function_input_data\": {\n",
    "            \"tile\": {\n",
    "                \"x\": 58,\n",
    "                \"y\": 9\n",
    "            },\n",
    "            \"curr_event\": (\"test_event\", None, None, None)\n",
    "        }\n",
    "    },\n",
    "    \"deployment\": config[0]\n",
    "}\n",
    "result = await run(run_inputs)"
   ]
  },
  {
   "cell_type": "code",
   "execution_count": null,
   "metadata": {},
   "outputs": [],
   "source": [
    "result"
   ]
  },
  {
   "cell_type": "code",
   "execution_count": null,
   "metadata": {},
   "outputs": [],
   "source": []
  }
 ],
 "metadata": {
  "kernelspec": {
   "display_name": "base",
   "language": "python",
   "name": "python3"
  },
  "language_info": {
   "codemirror_mode": {
    "name": "ipython",
    "version": 3
   },
   "file_extension": ".py",
   "mimetype": "text/x-python",
   "name": "python",
   "nbconvert_exporter": "python",
   "pygments_lexer": "ipython3",
   "version": "3.11.11"
  }
 },
 "nbformat": 4,
 "nbformat_minor": 2
}
