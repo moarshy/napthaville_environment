{
 "cells": [
  {
   "cell_type": "code",
   "execution_count": 1,
   "metadata": {},
   "outputs": [],
   "source": [
    "import json\n",
    "from pathlib import Path\n",
    "from napthaville_environment.maze import Maze\n",
    "from naptha_sdk.storage.storage_client import StorageClient\n",
    "from naptha_sdk.schemas import NodeConfigUser"
   ]
  },
  {
   "cell_type": "code",
   "execution_count": 2,
   "metadata": {},
   "outputs": [],
   "source": [
    "from napthaville_environment.utils import read_file_to_list\n",
    "from napthaville_environment.schemas import (\n",
    "    MazeConfig, \n",
    "    MazeState, \n",
    "    TileDetails, \n",
    "    TileLocation, \n",
    "    PixelCoordinate, \n",
    "    TileLevel,\n",
    "    TilePath,\n",
    "    VisionRadius,\n",
    "    NearbyTiles\n",
    ")\n",
    "from naptha_sdk.storage.schemas import (\n",
    "    StorageType,\n",
    "    StorageLocation,\n",
    "    StorageObject,\n",
    "    CreateStorageRequest,\n",
    "    ReadStorageRequest,\n",
    "    UpdateStorageRequest,\n",
    "    DeleteStorageRequest, \n",
    "    DatabaseReadOptions,\n",
    "    ListStorageRequest\n",
    ")"
   ]
  },
  {
   "cell_type": "code",
   "execution_count": 3,
   "metadata": {},
   "outputs": [
    {
     "name": "stderr",
     "output_type": "stream",
     "text": [
      "2025-02-20 21:17:21,085 - naptha_sdk.storage.storage_client - INFO - Storage Provider URL: http://localhost:7001\n"
     ]
    }
   ],
   "source": [
    "config = json.load(open(\"/Users/arshath/play/napthaville_environment/napthaville_environment/configs/deployment.json\"))\n",
    "config = config[0][\"config\"]\n",
    "node = NodeConfigUser(\n",
    "    ip = \"localhost\",\n",
    "    user_communication_port=7001,\n",
    "    user_communication_protocol=\"http\",\n",
    ")\n",
    "storage_client = StorageClient(node)"
   ]
  },
  {
   "cell_type": "code",
   "execution_count": 4,
   "metadata": {},
   "outputs": [],
   "source": [
    "# maze = await Maze.create(config[0][\"config\"], storage_client)"
   ]
  },
  {
   "cell_type": "code",
   "execution_count": 5,
   "metadata": {},
   "outputs": [
    {
     "data": {
      "text/plain": [
       "True"
      ]
     },
     "execution_count": 5,
     "metadata": {},
     "output_type": "execute_result"
    }
   ],
   "source": [
    "delete_request = DeleteStorageRequest(\n",
    "    storage_type=StorageType.DATABASE,\n",
    "    path=\"napthaville_environment\"\n",
    ")\n",
    "await storage_client.execute(delete_request)\n"
   ]
  },
  {
   "cell_type": "code",
   "execution_count": 6,
   "metadata": {},
   "outputs": [],
   "source": [
    "# Basic maze config\n",
    "maze_name = config[\"world_name\"]    \n",
    "maze_width = config[\"maze_width\"]\n",
    "maze_height = config[\"maze_height\"]\n",
    "sq_tile_size = config[\"sq_tile_size\"]\n",
    "special_constraint = config[\"special_constraint\"]\n",
    "env_matrix_path = config[\"env_matrix_path\"]\n",
    "\n",
    "# Database config\n",
    "storage_config = config[\"storage_config\"]\n",
    "schema = storage_config[\"path\"]\n",
    "storage_schema = storage_config[\"storage_schema\"]\n",
    "\n",
    "# Initialize empty placeholders\n",
    "collision_maze = []\n",
    "tiles = []\n",
    "address_tiles = dict()"
   ]
  },
  {
   "cell_type": "markdown",
   "metadata": {},
   "source": [
    "<!-- ### is_initialized -->"
   ]
  },
  {
   "cell_type": "code",
   "execution_count": 7,
   "metadata": {},
   "outputs": [],
   "source": [
    "# # Check if napthaville_environment table exists and check each type\n",
    "# table_types = ['tiles', 'collision_maze', 'address_tiles']\n",
    "\n",
    "# for data_type in table_types:\n",
    "#     check_request = ReadStorageRequest(\n",
    "#         storage_type=StorageType.DATABASE,\n",
    "#         path=\"napthaville_environment\",\n",
    "#         options=DatabaseReadOptions(\n",
    "#             columns=[\"data\"],\n",
    "#             conditions=[{\n",
    "#                 \"field\": \"type\",\n",
    "#                 \"op\": \"=\",\n",
    "#                 \"value\": data_type\n",
    "#             }]\n",
    "#         ).model_dump()\n",
    "#     )\n",
    "\n",
    "#     try:\n",
    "#         check_result = await storage_client.execute(check_request)\n",
    "#         print(f\"{data_type} data exists in table\")\n",
    "#     except Exception as e:\n",
    "#         print(f\"Check for {data_type} failed: {str(e)}\")"
   ]
  },
  {
   "cell_type": "markdown",
   "metadata": {},
   "source": [
    "### load env matrix"
   ]
  },
  {
   "cell_type": "code",
   "execution_count": 8,
   "metadata": {},
   "outputs": [],
   "source": [
    "env_matrix_path = Path(\"/Users/arshath/play/napthaville_environment/napthaville_environment/data/matrix\")\n",
    "blocks_folder = env_matrix_path / \"special_blocks\"\n",
    "\n",
    "# Load blocks\n",
    "_wb = blocks_folder / \"world_blocks.csv\"\n",
    "wb_rows = read_file_to_list(_wb, header=False)\n",
    "wb = wb_rows[0][-1]\n",
    "\n",
    "_sb = blocks_folder / \"sector_blocks.csv\" \n",
    "sb_rows = read_file_to_list(_sb, header=False)\n",
    "sb_dict = dict()\n",
    "for i in sb_rows: sb_dict[i[0]] = i[-1]\n",
    "\n",
    "_ab = blocks_folder / \"arena_blocks.csv\"\n",
    "ab_rows = read_file_to_list(_ab, header=False)\n",
    "ab_dict = dict()\n",
    "for i in ab_rows: ab_dict[i[0]] = i[-1]\n",
    "\n",
    "_gob = blocks_folder / \"game_object_blocks.csv\"\n",
    "gob_rows = read_file_to_list(_gob, header=False)\n",
    "gob_dict = dict()\n",
    "for i in gob_rows: gob_dict[i[0]] = i[-1]\n",
    "\n",
    "_slb = blocks_folder / \"spawning_location_blocks.csv\"\n",
    "slb_rows = read_file_to_list(_slb, header=False)\n",
    "slb_dict = dict()\n",
    "for i in slb_rows: slb_dict[i[0]] = i[-1]\n",
    "\n",
    "# Load mazes\n",
    "maze_folder = env_matrix_path / \"maze\"\n",
    "_cm = maze_folder / \"collision_maze.csv\"\n",
    "collision_maze_raw = read_file_to_list(_cm, header=False)[0]\n",
    "_sm = maze_folder / \"sector_maze.csv\"\n",
    "sector_maze_raw = read_file_to_list(_sm, header=False)[0]\n",
    "_am = maze_folder / \"arena_maze.csv\"\n",
    "arena_maze_raw = read_file_to_list(_am, header=False)[0]\n",
    "_gom = maze_folder / \"game_object_maze.csv\"\n",
    "game_object_maze_raw = read_file_to_list(_gom, header=False)[0]\n",
    "_slm = maze_folder / \"spawning_location_maze.csv\"\n",
    "spawning_location_maze_raw = read_file_to_list(_slm, header=False)[0]\n",
    "\n",
    "# Convert 1D to 2D\n",
    "collision_maze = []\n",
    "sector_maze = []\n",
    "arena_maze = []\n",
    "game_object_maze = []\n",
    "spawning_location_maze = []\n",
    "for i in range(0, len(collision_maze_raw), maze_width): \n",
    "    tw = maze_width\n",
    "    collision_maze += [collision_maze_raw[i:i+tw]]\n",
    "    sector_maze += [sector_maze_raw[i:i+tw]]\n",
    "    arena_maze += [arena_maze_raw[i:i+tw]]\n",
    "    game_object_maze += [game_object_maze_raw[i:i+tw]]\n",
    "    spawning_location_maze += [spawning_location_maze_raw[i:i+tw]]\n",
    "\n",
    "# Initialize tiles\n",
    "tiles = []\n",
    "for i in range(maze_height): \n",
    "    row = []\n",
    "    for j in range(maze_width):\n",
    "        tile_details = dict()\n",
    "        tile_details[\"world\"] = wb\n",
    "        \n",
    "        tile_details[\"sector\"] = \"\"\n",
    "        if sector_maze[i][j] in sb_dict: \n",
    "            tile_details[\"sector\"] = sb_dict[sector_maze[i][j]]\n",
    "        \n",
    "        tile_details[\"arena\"] = \"\"\n",
    "        if arena_maze[i][j] in ab_dict: \n",
    "            tile_details[\"arena\"] = ab_dict[arena_maze[i][j]]\n",
    "        \n",
    "        tile_details[\"game_object\"] = \"\"\n",
    "        if game_object_maze[i][j] in gob_dict: \n",
    "            tile_details[\"game_object\"] = gob_dict[game_object_maze[i][j]]\n",
    "        \n",
    "        tile_details[\"spawning_location\"] = \"\"\n",
    "        if spawning_location_maze[i][j] in slb_dict: \n",
    "            tile_details[\"spawning_location\"] = slb_dict[spawning_location_maze[i][j]]\n",
    "        \n",
    "        tile_details[\"collision\"] = False\n",
    "        if collision_maze[i][j] != \"0\": \n",
    "            tile_details[\"collision\"] = True\n",
    "\n",
    "        tile_details[\"events\"] = set()\n",
    "        \n",
    "        row += [tile_details]\n",
    "    tiles += [row]\n",
    "\n",
    "# Initialize game object events\n",
    "for i in range(maze_height):\n",
    "    for j in range(maze_width): \n",
    "        if tiles[i][j][\"game_object\"]:\n",
    "            object_name = \":\".join([tiles[i][j][\"world\"], \n",
    "                                tiles[i][j][\"sector\"], \n",
    "                                tiles[i][j][\"arena\"], \n",
    "                                tiles[i][j][\"game_object\"]])\n",
    "            go_event = (object_name, None, None, None)\n",
    "            tiles[i][j][\"events\"].add(go_event)\n",
    "\n",
    "# Initialize address tiles\n",
    "address_tiles = dict()\n",
    "for i in range(maze_height):\n",
    "    for j in range(maze_width): \n",
    "        addresses = []\n",
    "        if tiles[i][j][\"sector\"]: \n",
    "            add = f'{tiles[i][j][\"world\"]}:'\n",
    "            add += f'{tiles[i][j][\"sector\"]}'\n",
    "            addresses += [add]\n",
    "        if tiles[i][j][\"arena\"]: \n",
    "            add = f'{tiles[i][j][\"world\"]}:'\n",
    "            add += f'{tiles[i][j][\"sector\"]}:'\n",
    "            add += f'{tiles[i][j][\"arena\"]}'\n",
    "            addresses += [add]\n",
    "        if tiles[i][j][\"game_object\"]: \n",
    "            add = f'{tiles[i][j][\"world\"]}:'\n",
    "            add += f'{tiles[i][j][\"sector\"]}:'\n",
    "            add += f'{tiles[i][j][\"arena\"]}:'\n",
    "            add += f'{tiles[i][j][\"game_object\"]}'\n",
    "            addresses += [add]\n",
    "        if tiles[i][j][\"spawning_location\"]: \n",
    "            add = f'<spawn_loc>{tiles[i][j][\"spawning_location\"]}'\n",
    "            addresses += [add]\n",
    "\n",
    "        for add in addresses: \n",
    "            if add in address_tiles: \n",
    "                address_tiles[add].add((j, i))\n",
    "            else: \n",
    "                address_tiles[add] = set([(j, i)])"
   ]
  },
  {
   "cell_type": "code",
   "execution_count": 9,
   "metadata": {},
   "outputs": [
    {
     "name": "stdout",
     "output_type": "stream",
     "text": [
      "Created table napthaville_environment\n"
     ]
    }
   ],
   "source": [
    "storage_schema = config[\"storage_config\"][\"storage_schema\"]\n",
    "\n",
    "# Create napthaville_environment table\n",
    "table_name = \"napthaville_environment\"\n",
    "schema_def = storage_schema[\"napthaville_environment\"]\n",
    "\n",
    "create_table_request = CreateStorageRequest(\n",
    "    storage_type=StorageType.DATABASE,\n",
    "    path=table_name,\n",
    "    data={\"schema\": schema_def}\n",
    ")\n",
    "\n",
    "try:\n",
    "    await storage_client.execute(create_table_request)\n",
    "    print(f\"Created table {table_name}\")\n",
    "except Exception as e:\n",
    "    print(f\"Error creating table {table_name}: {str(e)}\")"
   ]
  },
  {
   "cell_type": "code",
   "execution_count": 10,
   "metadata": {},
   "outputs": [
    {
     "name": "stdout",
     "output_type": "stream",
     "text": [
      "Full tiles data inserted successfully\n"
     ]
    }
   ],
   "source": [
    "# Try simplified but complete tiles data\n",
    "full_tiles_data = {\n",
    "    \"maze_name\": maze_name,\n",
    "    \"tiles_matrix\": [[{\n",
    "        \"world\": tile[\"world\"],\n",
    "        \"sector\": tile[\"sector\"],\n",
    "        \"arena\": tile[\"arena\"],\n",
    "        \"game_object\": tile[\"game_object\"],\n",
    "        \"spawning_location\": tile[\"spawning_location\"],\n",
    "        \"collision\": tile[\"collision\"],\n",
    "        \"events\": []  # Start with empty list instead of set\n",
    "    } for tile in row] for row in tiles]\n",
    "}\n",
    "\n",
    "tiles_create = CreateStorageRequest(\n",
    "    storage_type=StorageType.DATABASE,\n",
    "    path=\"napthaville_environment\",\n",
    "    data={\"data\": {\n",
    "        \"type\": \"tiles\",\n",
    "        \"data\": json.dumps(full_tiles_data)\n",
    "    }}\n",
    ")\n",
    "\n",
    "try:\n",
    "    await storage_client.execute(tiles_create)\n",
    "    print(\"Full tiles data inserted successfully\")\n",
    "except Exception as e:\n",
    "    print(f\"Error inserting tiles data: {str(e)}\")"
   ]
  },
  {
   "cell_type": "code",
   "execution_count": 11,
   "metadata": {},
   "outputs": [
    {
     "name": "stdout",
     "output_type": "stream",
     "text": [
      "Collision maze data inserted successfully\n"
     ]
    }
   ],
   "source": [
    "# Collision maze data\n",
    "collision_data = {\n",
    "    \"maze_name\": maze_name,\n",
    "    \"collision_matrix\": collision_maze\n",
    "}\n",
    "\n",
    "collision_create = CreateStorageRequest(\n",
    "    storage_type=StorageType.DATABASE,\n",
    "    path=\"napthaville_environment\",\n",
    "    data={\"data\": {\n",
    "        \"type\": \"collision_maze\",\n",
    "        \"data\": json.dumps(collision_data)\n",
    "    }}\n",
    ")\n",
    "\n",
    "try:\n",
    "    r = await storage_client.execute(collision_create)\n",
    "    print(\"Collision maze data inserted successfully\")\n",
    "except Exception as e:\n",
    "    print(f\"Error inserting collision maze data: {str(e)}\")"
   ]
  },
  {
   "cell_type": "code",
   "execution_count": 12,
   "metadata": {},
   "outputs": [
    {
     "name": "stdout",
     "output_type": "stream",
     "text": [
      "Address tiles data inserted successfully\n"
     ]
    }
   ],
   "source": [
    "# Address tiles data\n",
    "# Convert sets to lists for JSON serialization\n",
    "address_data = {\n",
    "    \"maze_name\": maze_name,\n",
    "    \"address_mappings\": {\n",
    "        addr: list(coords) for addr, coords in address_tiles.items()\n",
    "    }\n",
    "}\n",
    "\n",
    "address_create = CreateStorageRequest(\n",
    "    storage_type=StorageType.DATABASE,\n",
    "    path=\"napthaville_environment\",\n",
    "    data={\"data\": {\n",
    "        \"type\": \"address_tiles\",\n",
    "        \"data\": json.dumps(address_data)\n",
    "    }}\n",
    ")\n",
    "\n",
    "try:\n",
    "    await storage_client.execute(address_create)\n",
    "    print(\"Address tiles data inserted successfully\")\n",
    "except Exception as e:\n",
    "    print(f\"Error inserting address tiles data: {str(e)}\")"
   ]
  },
  {
   "cell_type": "code",
   "execution_count": 13,
   "metadata": {},
   "outputs": [],
   "source": [
    "request = ReadStorageRequest(\n",
    "    storage_type=StorageType.DATABASE,\n",
    "    path=\"napthaville_environment\",\n",
    "    options= {\"condition\": {\"type\": \"tiles\"}}\n",
    "\n",
    ")\n",
    "result = await storage_client.execute(request)\n",
    "\n",
    "# Parse the JSONB data\n",
    "data = json.loads(result.data[0][\"data\"])  # Note the nested \"data\" access\n",
    "tiles_matrix = data[\"tiles_matrix\"]\n",
    "\n",
    "# Convert event lists back to sets\n",
    "for i in range(len(tiles_matrix)):\n",
    "    for j in range(len(tiles_matrix[i])):\n",
    "        if tiles_matrix[i][j][\"events\"]:\n",
    "            tiles_matrix[i][j][\"events\"] = set(tuple(e) for e in tiles_matrix[i][j][\"events\"])"
   ]
  },
  {
   "cell_type": "code",
   "execution_count": 14,
   "metadata": {},
   "outputs": [],
   "source": [
    "request = ReadStorageRequest(\n",
    "    storage_type=StorageType.DATABASE,\n",
    "    path=\"napthaville_environment\",\n",
    "    options= {\"conditions\": [{\"type\": \"collision_maze\"}]}\n",
    ")\n",
    "result = await storage_client.execute(request)\n",
    "\n",
    "\n",
    "data = json.loads(result.data[0][\"data\"])\n",
    "collision_matrix = data[\"collision_matrix\"]\n"
   ]
  },
  {
   "cell_type": "code",
   "execution_count": 15,
   "metadata": {},
   "outputs": [],
   "source": [
    "request = ReadStorageRequest(\n",
    "    storage_type=StorageType.DATABASE,\n",
    "    path=\"napthaville_environment\",\n",
    "    options= {\"conditions\": [{\"type\": \"address_tiles\"}]}\n",
    ")\n",
    "result = await storage_client.execute(request)\n",
    "\n",
    "data = json.loads(result.data[0][\"data\"])\n",
    "address_mappings = data[\"address_mappings\"]"
   ]
  },
  {
   "cell_type": "code",
   "execution_count": 16,
   "metadata": {},
   "outputs": [],
   "source": [
    "event_to_add = ('double studio:double studio:bedroom 2:bed', None, None, None)\n",
    "\n",
    "event = tiles_matrix[1][1]['events']\n",
    "event = set(tuple(e) for e in event)\n",
    "event.add(event_to_add)\n",
    "tiles_matrix[1][1]['events'] = list(event)"
   ]
  },
  {
   "cell_type": "code",
   "execution_count": 17,
   "metadata": {},
   "outputs": [],
   "source": [
    "# make it into tile_matrix\n",
    "\n",
    "tiles_matrix = {\"tiles_matrix\": [[{\n",
    "    \"world\": tile[\"world\"],\n",
    "    \"sector\": tile[\"sector\"],\n",
    "    \"arena\": tile[\"arena\"],\n",
    "    \"game_object\": tile[\"game_object\"],\n",
    "    \"spawning_location\": tile[\"spawning_location\"],\n",
    "    \"collision\": tile[\"collision\"],\n",
    "    \"events\": list(tile[\"events\"])\n",
    "} for tile in row] for row in tiles_matrix]}\n"
   ]
  },
  {
   "cell_type": "code",
   "execution_count": 19,
   "metadata": {},
   "outputs": [
    {
     "data": {
      "text/plain": [
       "[('double studio:double studio:bedroom 2:bed', None, None, None)]"
      ]
     },
     "execution_count": 19,
     "metadata": {},
     "output_type": "execute_result"
    }
   ],
   "source": [
    "tiles_matrix[\"tiles_matrix\"][1][1]['events']"
   ]
  },
  {
   "cell_type": "code",
   "execution_count": 20,
   "metadata": {},
   "outputs": [
    {
     "data": {
      "text/plain": [
       "StorageObject(location=StorageLocation(storage_type=<StorageType.DATABASE: 'db'>, path='napthaville_environment', options={}), data={'location': {'storage_type': 'db', 'path': 'napthaville_environment', 'options': {}}, 'data': 1, 'metadata': {'content_type': None, 'created_at': None, 'modified_at': None, 'size': None, 'checksum': None, 'tags': {}, 'custom': {}}}, metadata=StorageMetadata(content_type=None, created_at=None, modified_at=None, size=None, checksum=None, tags={}, custom={}))"
      ]
     },
     "execution_count": 20,
     "metadata": {},
     "output_type": "execute_result"
    }
   ],
   "source": [
    "update_request = UpdateStorageRequest(\n",
    "    storage_type=StorageType.DATABASE,\n",
    "    path=\"napthaville_environment\",\n",
    "    data={\"data\": {\n",
    "        \"data\": json.dumps(tiles_matrix)\n",
    "    }},\n",
    "    options={\"condition\": {\"type\": \"tiles\"}}\n",
    ")\n",
    "\n",
    "await storage_client.execute(update_request)"
   ]
  },
  {
   "cell_type": "code",
   "execution_count": 21,
   "metadata": {},
   "outputs": [],
   "source": [
    "read_request = ReadStorageRequest(\n",
    "    storage_type=StorageType.DATABASE,\n",
    "    path=\"napthaville_environment\",\n",
    "    options={\"conditions\": [{\"type\": \"tiles\"}]}\n",
    ")\n",
    "result = await storage_client.execute(read_request)\n"
   ]
  },
  {
   "cell_type": "code",
   "execution_count": 22,
   "metadata": {},
   "outputs": [],
   "source": [
    "data = json.loads(result.data[0][\"data\"])\n",
    "tiles_matrix = data[\"tiles_matrix\"]\n",
    "\n",
    "# Convert event lists back to sets\n",
    "for i in range(len(tiles_matrix)):\n",
    "    for j in range(len(tiles_matrix[i])):\n",
    "        if tiles_matrix[i][j][\"events\"]:\n",
    "            tiles_matrix[i][j][\"events\"] = set(tuple(e) for e in tiles_matrix[i][j][\"events\"])\n",
    "            "
   ]
  },
  {
   "cell_type": "code",
   "execution_count": 23,
   "metadata": {},
   "outputs": [
    {
     "data": {
      "text/plain": [
       "{('double studio:double studio:bedroom 2:bed', None, None, None)}"
      ]
     },
     "execution_count": 23,
     "metadata": {},
     "output_type": "execute_result"
    }
   ],
   "source": [
    "tiles_matrix[1][1]['events']"
   ]
  },
  {
   "cell_type": "code",
   "execution_count": null,
   "metadata": {},
   "outputs": [],
   "source": []
  }
 ],
 "metadata": {
  "kernelspec": {
   "display_name": ".venv",
   "language": "python",
   "name": "python3"
  },
  "language_info": {
   "codemirror_mode": {
    "name": "ipython",
    "version": 3
   },
   "file_extension": ".py",
   "mimetype": "text/x-python",
   "name": "python",
   "nbconvert_exporter": "python",
   "pygments_lexer": "ipython3",
   "version": "3.11.11"
  }
 },
 "nbformat": 4,
 "nbformat_minor": 2
}
