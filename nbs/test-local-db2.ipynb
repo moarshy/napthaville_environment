{
 "cells": [
  {
   "cell_type": "code",
   "execution_count": 1,
   "metadata": {},
   "outputs": [],
   "source": [
    "import json\n",
    "from pathlib import Path\n",
    "from napthaville_environment.maze import Maze\n",
    "from naptha_sdk.storage.storage_client import StorageClient\n",
    "from naptha_sdk.schemas import NodeConfigUser"
   ]
  },
  {
   "cell_type": "code",
   "execution_count": 2,
   "metadata": {},
   "outputs": [],
   "source": [
    "from napthaville_environment.utils import read_file_to_list\n",
    "from napthaville_environment.schemas import (\n",
    "    MazeConfig, \n",
    "    MazeState, \n",
    "    TileDetails, \n",
    "    TileLocation, \n",
    "    PixelCoordinate, \n",
    "    TileLevel,\n",
    "    TilePath,\n",
    "    VisionRadius,\n",
    "    NearbyTiles\n",
    ")\n",
    "from naptha_sdk.storage.schemas import (\n",
    "    StorageType,\n",
    "    StorageLocation,\n",
    "    StorageObject,\n",
    "    CreateStorageRequest,\n",
    "    ReadStorageRequest,\n",
    "    UpdateStorageRequest,\n",
    "    DeleteStorageRequest, \n",
    "    DatabaseReadOptions,\n",
    "    ListStorageRequest\n",
    ")"
   ]
  },
  {
   "cell_type": "code",
   "execution_count": 3,
   "metadata": {},
   "outputs": [],
   "source": [
    "import logging\n",
    "logging.basicConfig(level=logging.INFO)\n",
    "logger = logging.getLogger(__name__)"
   ]
  },
  {
   "cell_type": "code",
   "execution_count": 4,
   "metadata": {},
   "outputs": [
    {
     "name": "stderr",
     "output_type": "stream",
     "text": [
      "INFO:naptha_sdk.utils:Node schema: ip='localhost' user_communication_port=7001 user_communication_protocol='http'\n",
      "2025-02-20 22:09:53,439 - naptha_sdk.storage.storage_client - INFO - Storage Provider URL: http://localhost:7001\n",
      "INFO:naptha_sdk.storage.storage_client:Storage Provider URL: http://localhost:7001\n"
     ]
    }
   ],
   "source": [
    "config = json.load(open(\"/Users/arshath/play/napthaville_environment/napthaville_environment/configs/deployment.json\"))\n",
    "config = config[0][\"config\"]\n",
    "node = NodeConfigUser(\n",
    "    ip = \"localhost\",\n",
    "    user_communication_port=7001,\n",
    "    user_communication_protocol=\"http\",\n",
    ")\n",
    "storage_client = StorageClient(node)"
   ]
  },
  {
   "cell_type": "code",
   "execution_count": 5,
   "metadata": {},
   "outputs": [
    {
     "name": "stderr",
     "output_type": "stream",
     "text": [
      "INFO:httpx:HTTP Request: GET http://localhost:7001/storage/db/read/napthaville_environment?options=%7B%22columns%22%3A%20%5B%22type%22%5D%2C%20%22conditions%22%3A%20%5B%5D%2C%20%22order_by%22%3A%20null%2C%20%22order_direction%22%3A%20%22asc%22%2C%20%22limit%22%3A%20null%2C%20%22offset%22%3A%20null%2C%20%22query_vector%22%3A%20null%2C%20%22query_col%22%3A%20null%2C%20%22answer_col%22%3A%20null%2C%20%22vector_col%22%3A%20null%2C%20%22top_k%22%3A%205%2C%20%22include_similarity%22%3A%20true%7D \"HTTP/1.1 200 OK\"\n",
      "INFO:napthaville_environment.maze:Maze Napthaville is initialized: True\n",
      "INFO:httpx:HTTP Request: GET http://localhost:7001/storage/db/read/napthaville_environment?options=%7B%22conditions%22%3A%20%5B%7B%22type%22%3A%20%22collision_maze%22%7D%5D%7D \"HTTP/1.1 200 OK\"\n",
      "INFO:httpx:HTTP Request: GET http://localhost:7001/storage/db/read/napthaville_environment?options=%7B%22conditions%22%3A%20%5B%7B%22type%22%3A%20%22tiles%22%7D%5D%7D \"HTTP/1.1 200 OK\"\n",
      "INFO:httpx:HTTP Request: GET http://localhost:7001/storage/db/read/napthaville_environment?options=%7B%22conditions%22%3A%20%5B%7B%22type%22%3A%20%22address_tiles%22%7D%5D%7D \"HTTP/1.1 200 OK\"\n"
     ]
    }
   ],
   "source": [
    "maze = await Maze.create(config, storage_client)"
   ]
  },
  {
   "cell_type": "code",
   "execution_count": 6,
   "metadata": {},
   "outputs": [
    {
     "data": {
      "text/plain": [
       "TileLocation(x=50, y=12)"
      ]
     },
     "execution_count": 6,
     "metadata": {},
     "output_type": "execute_result"
    }
   ],
   "source": [
    "# turn_coordinate_to_tile\n",
    "tile_location = maze.turn_coordinate_to_tile(PixelCoordinate(x=1600, y=384))\n",
    "tile_location"
   ]
  },
  {
   "cell_type": "code",
   "execution_count": null,
   "metadata": {},
   "outputs": [],
   "source": [
    "# access_tile\n",
    "tile_details = await maze.access_tile(tile_location)\n",
    "tile_details"
   ]
  },
  {
   "cell_type": "code",
   "execution_count": null,
   "metadata": {},
   "outputs": [],
   "source": [
    "tile_path = await maze.get_tile_path(tile_location, TileLevel.WORLD)\n",
    "tile_path\n"
   ]
  },
  {
   "cell_type": "code",
   "execution_count": null,
   "metadata": {},
   "outputs": [],
   "source": [
    "nearby_tiles = maze.get_nearby_tiles(tile_location, VisionRadius(radius=2))\n",
    "nearby_tiles"
   ]
  },
  {
   "cell_type": "code",
   "execution_count": null,
   "metadata": {},
   "outputs": [],
   "source": [
    "test_evant = (\"double studio:double studio:bedroom 2:bed\", \"param1\", \"param2\", \"param3\")\n",
    "await maze.add_event_from_tile(test_evant, tile_location)"
   ]
  },
  {
   "cell_type": "code",
   "execution_count": null,
   "metadata": {},
   "outputs": [],
   "source": [
    "# event after adding\n",
    "tile_location = TileLocation(x=50, y=12)\n",
    "await maze.access_tile(tile_location)"
   ]
  },
  {
   "cell_type": "code",
   "execution_count": null,
   "metadata": {},
   "outputs": [],
   "source": [
    "# turn_event_from_tile_idle\n",
    "test_evant = (\"double studio:double studio:bedroom 2:bed\", \"param1\", \"param2\", \"param3\")\n",
    "await maze.turn_event_from_tile_idle(test_evant, tile_location)"
   ]
  },
  {
   "cell_type": "code",
   "execution_count": null,
   "metadata": {},
   "outputs": [],
   "source": [
    "# event after turning idle\n",
    "tile_location = TileLocation(x=50, y=12)\n",
    "await maze.access_tile(tile_location)\n"
   ]
  },
  {
   "cell_type": "code",
   "execution_count": null,
   "metadata": {},
   "outputs": [],
   "source": [
    "# remove event\n",
    "test_evant = (\"double studio:double studio:bedroom 2:bed\", None, None, None)\n",
    "await maze.remove_event_from_tile(test_evant, tile_location)"
   ]
  },
  {
   "cell_type": "code",
   "execution_count": null,
   "metadata": {},
   "outputs": [],
   "source": [
    "# event after removing\n",
    "tile_location = TileLocation(x=50, y=12)\n",
    "await maze.access_tile(tile_location)"
   ]
  },
  {
   "cell_type": "code",
   "execution_count": null,
   "metadata": {},
   "outputs": [],
   "source": [
    "# add subject events\n",
    "test_evant = (\"Mr. X\", \"param1\", \"param2\", \"param3\")\n",
    "await maze.add_event_from_tile(test_evant, tile_location)"
   ]
  },
  {
   "cell_type": "code",
   "execution_count": null,
   "metadata": {},
   "outputs": [],
   "source": [
    "# event after adding subject events\n",
    "tile_location = TileLocation(x=50, y=12)\n",
    "await maze.access_tile(tile_location)"
   ]
  },
  {
   "cell_type": "code",
   "execution_count": null,
   "metadata": {},
   "outputs": [],
   "source": [
    "# remove subject events\n",
    "test_evant = (\"Mr. X\", \"param1\", \"param2\", \"param3\")\n",
    "await maze.remove_event_from_tile(test_evant, tile_location)"
   ]
  },
  {
   "cell_type": "code",
   "execution_count": 7,
   "metadata": {},
   "outputs": [
    {
     "data": {
      "text/plain": [
       "TileDetails(world='the Ville', sector='', arena='', game_object='', spawning_location='', collision=False, events=set())"
      ]
     },
     "execution_count": 7,
     "metadata": {},
     "output_type": "execute_result"
    }
   ],
   "source": [
    "# event after removing subject events\n",
    "tile_location = TileLocation(x=50, y=12)\n",
    "await maze.access_tile(tile_location)"
   ]
  },
  {
   "cell_type": "code",
   "execution_count": null,
   "metadata": {},
   "outputs": [],
   "source": []
  }
 ],
 "metadata": {
  "kernelspec": {
   "display_name": ".venv",
   "language": "python",
   "name": "python3"
  },
  "language_info": {
   "codemirror_mode": {
    "name": "ipython",
    "version": 3
   },
   "file_extension": ".py",
   "mimetype": "text/x-python",
   "name": "python",
   "nbconvert_exporter": "python",
   "pygments_lexer": "ipython3",
   "version": "3.11.11"
  }
 },
 "nbformat": 4,
 "nbformat_minor": 2
}
